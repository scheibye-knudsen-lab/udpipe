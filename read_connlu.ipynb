{
 "cells": [
  {
   "cell_type": "code",
   "execution_count": null,
   "metadata": {},
   "outputs": [],
   "source": [
    "import json\n",
    "import conllu\n",
    "import itertools\n",
    "from conllu import parse"
   ]
  },
  {
   "cell_type": "code",
   "execution_count": 86,
   "metadata": {},
   "outputs": [],
   "source": [
    "upostag = []"
   ]
  },
  {
   "cell_type": "code",
   "execution_count": 95,
   "metadata": {},
   "outputs": [],
   "source": [
    "with open('sct.json', 'r') as udpipe:\n",
    "    for row in itertools.islice(udpipe, 10000000):\n",
    "        doc = json.loads(row)\n",
    "        text = doc['text']\n",
    "        conllu = doc['conllu']\n",
    "        #print(text)\n",
    "        #print()\n",
    "        sentences = parse(conllu)\n",
    "        for sentence in sentences:\n",
    "            head = -1\n",
    "            for token in sentence:\n",
    "                if token['form'].lower()=='ikke':\n",
    "                    upostag.append(token['upostag'])\n",
    "                if token['form'].lower()=='intet' and token['upostag']=='DET':\n",
    "                    head = int(token['head'])\n",
    "                    #print()\n",
    "                    #print(sentence.metadata['text'])\n",
    "            #if head!=-1:\n",
    "                #print(sentence[head-1]['form'])"
   ]
  },
  {
   "cell_type": "code",
   "execution_count": 91,
   "metadata": {},
   "outputs": [],
   "source": [
    "import numpy as np"
   ]
  },
  {
   "cell_type": "code",
   "execution_count": 96,
   "metadata": {},
   "outputs": [
    {
     "data": {
      "text/plain": [
       "(array(['ADJ', 'ADV', 'DET', 'PRON', 'PROPN'], dtype='<U5'),\n",
       " array([    3, 11143,  1474,   146,     1]))"
      ]
     },
     "execution_count": 96,
     "metadata": {},
     "output_type": "execute_result"
    }
   ],
   "source": [
    "np.unique(upostag, return_counts=True)"
   ]
  },
  {
   "cell_type": "code",
   "execution_count": null,
   "metadata": {},
   "outputs": [],
   "source": []
  }
 ],
 "metadata": {
  "kernelspec": {
   "display_name": "Python 3",
   "language": "python",
   "name": "python3"
  },
  "language_info": {
   "codemirror_mode": {
    "name": "ipython",
    "version": 3
   },
   "file_extension": ".py",
   "mimetype": "text/x-python",
   "name": "python",
   "nbconvert_exporter": "python",
   "pygments_lexer": "ipython3",
   "version": "3.7.3"
  }
 },
 "nbformat": 4,
 "nbformat_minor": 2
}
